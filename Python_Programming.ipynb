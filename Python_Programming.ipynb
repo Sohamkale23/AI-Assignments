{
  "nbformat": 4,
  "nbformat_minor": 0,
  "metadata": {
    "colab": {
      "provenance": []
    },
    "kernelspec": {
      "name": "python3",
      "display_name": "Python 3"
    },
    "language_info": {
      "name": "python"
    }
  },
  "cells": [
    {
      "cell_type": "code",
      "source": [
        "import pandas as pd\n",
        "\n",
        "def load_data(file_path):\n",
        "    \"\"\"Load employee data from a CSV file.\"\"\"\n",
        "    return pd.read_csv(file_path)"
      ],
      "metadata": {
        "id": "fy7Z-D1XUp20"
      },
      "execution_count": 4,
      "outputs": []
    },
    {
      "cell_type": "code",
      "source": [
        "def greet_employee(employee_df, emp_id):\n",
        "    \"\"\"Greet an employee with their first name based on Employee ID.\"\"\"\n",
        "    emp = employee_df[employee_df['EID'] == emp_id]\n",
        "    if not emp.empty:\n",
        "        first_name = emp.iloc[0]['Employee Name'].split()[0]\n",
        "        prefix = \"Mr\" if emp.iloc[0]['Gender'] == \"Male\" else \"Ms\"\n",
        "        return f\"Hello, {prefix} {first_name}\"\n",
        "    return \"Employee not found\""
      ],
      "metadata": {
        "id": "rzm_tIlcYvbF"
      },
      "execution_count": 5,
      "outputs": []
    },
    {
      "cell_type": "code",
      "source": [
        "def average_salary_by_department(employee_df):\n",
        "    \"\"\"Calculate the average salary for each department.\"\"\"\n",
        "    return employee_df.groupby('Department')['Salary'].mean()"
      ],
      "metadata": {
        "id": "K0IAjKWDYx4s"
      },
      "execution_count": 6,
      "outputs": []
    },
    {
      "cell_type": "code",
      "source": [
        "def get_employee_details(employee_df, emp_id):\n",
        "    \"\"\"Retrieve an employee's name, date of joining, and department.\"\"\"\n",
        "    emp = employee_df[employee_df['EID'] == emp_id]\n",
        "    if not emp.empty:\n",
        "        return f\"{emp.iloc[0]['Employee Name']} | {emp.iloc[0]['Date of Joining']} | {emp.iloc[0]['Department']}\"\n",
        "    return \"Employee not found\""
      ],
      "metadata": {
        "id": "2jLSZmOYY2SH"
      },
      "execution_count": 7,
      "outputs": []
    },
    {
      "cell_type": "code",
      "source": [
        "\n",
        "def sort_employees_by_joining_date(employee_df):\n",
        "    \"\"\"Sort employees from oldest to newest based on Date of Joining.\"\"\"\n",
        "    employee_df['Date of Joining'] = pd.to_datetime(employee_df['Date of Joining'], format='%d-%m-%Y')\n",
        "    return employee_df.sort_values(by='Date of Joining')"
      ],
      "metadata": {
        "id": "gyowfzvuY2ty"
      },
      "execution_count": 8,
      "outputs": []
    },
    {
      "cell_type": "code",
      "source": [
        "# Example usage\n",
        "file_path = \"/content/employee (2).csv\"\n",
        "employee_df = load_data(file_path)\n"
      ],
      "metadata": {
        "id": "_hE9N-DoY4jP"
      },
      "execution_count": 9,
      "outputs": []
    },
    {
      "cell_type": "code",
      "source": [
        "# Example function calls\n",
        "print(greet_employee(employee_df, \"E123D\"))\n",
        "print(average_salary_by_department(employee_df))\n",
        "print(get_employee_details(employee_df, \"E123D\"))\n",
        "print(sort_employees_by_joining_date(employee_df))\n"
      ],
      "metadata": {
        "colab": {
          "base_uri": "https://localhost:8080/"
        },
        "id": "tORGMpJoY6oa",
        "outputId": "9864cc57-fe8f-4343-c9cd-0adc3b070652"
      },
      "execution_count": 10,
      "outputs": [
        {
          "output_type": "stream",
          "name": "stdout",
          "text": [
            "Hello, Ms Nitin\n",
            "Department\n",
            "Engineering     650000.0\n",
            "IT             1200000.0\n",
            "Products       2075000.0\n",
            "Research       1350000.0\n",
            "Semantics      1200000.0\n",
            "Name: Salary, dtype: float64\n",
            "Nitin Bhole | 01-11-2016 | Products\n",
            "      EID      Employee Name Gender   Salary Date of Joining   Department\n",
            "12  E620Y     Kumar Abhishek      M  1100000      2014-12-01    Semantics\n",
            "7   E184A  Kushmakar Krishna      M  1100000      2015-01-01     Products\n",
            "4   E098Z    Rajendra Prabhu      M  1000000      2015-11-11    Semantics\n",
            "8   E104S     Amarnath Patil      M   600000      2015-11-29  Engineering\n",
            "3   E123B      Pankaj Bansal      M   900000      2015-12-01     Research\n",
            "1   E876G     Mayur Kulkarni      M  1200000      2016-06-03    Semantics\n",
            "2   E798G      Anurag Pandey      M  1200000      2016-07-04           IT\n",
            "0   E123D        Nitin Bhole      M  1900000      2016-11-01     Products\n",
            "5   E294M     Sumanth Mishra      M  1800000      2017-09-04     Research\n",
            "6   E972L          Sai Bodha      M  1100000      2017-11-11    Semantics\n",
            "10  E983Q     Chakshu Bansal      F   300000      2017-12-04     Products\n",
            "9   E093V   Shashidhar Reddy      M   700000      2018-11-29  Engineering\n",
            "13  E109U     Sanket Gibbidi      M  5000000      2019-01-11     Products\n",
            "11  E092E       Mitali Gupta      F  1600000      2019-05-02    Semantics\n"
          ]
        }
      ]
    },
    {
      "cell_type": "code",
      "source": [],
      "metadata": {
        "id": "RaAe8VqrY8aV"
      },
      "execution_count": null,
      "outputs": []
    }
  ]
}