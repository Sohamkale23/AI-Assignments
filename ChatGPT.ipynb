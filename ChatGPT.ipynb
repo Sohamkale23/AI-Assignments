{
  "nbformat": 4,
  "nbformat_minor": 0,
  "metadata": {
    "colab": {
      "provenance": []
    },
    "kernelspec": {
      "name": "python3",
      "display_name": "Python 3"
    },
    "language_info": {
      "name": "python"
    }
  },
  "cells": [
    {
      "cell_type": "code",
      "execution_count": 1,
      "metadata": {
        "colab": {
          "base_uri": "https://localhost:8080/"
        },
        "id": "MHIgXnKyIDPG",
        "outputId": "081463f9-3141-4b33-c270-401e97cf8ca6"
      },
      "outputs": [
        {
          "output_type": "stream",
          "name": "stdout",
          "text": [
            "Collecting openai==0.28\n",
            "  Downloading openai-0.28.0-py3-none-any.whl.metadata (13 kB)\n",
            "Requirement already satisfied: requests>=2.20 in /usr/local/lib/python3.11/dist-packages (from openai==0.28) (2.32.3)\n",
            "Requirement already satisfied: tqdm in /usr/local/lib/python3.11/dist-packages (from openai==0.28) (4.67.1)\n",
            "Requirement already satisfied: aiohttp in /usr/local/lib/python3.11/dist-packages (from openai==0.28) (3.11.13)\n",
            "Requirement already satisfied: charset-normalizer<4,>=2 in /usr/local/lib/python3.11/dist-packages (from requests>=2.20->openai==0.28) (3.4.1)\n",
            "Requirement already satisfied: idna<4,>=2.5 in /usr/local/lib/python3.11/dist-packages (from requests>=2.20->openai==0.28) (3.10)\n",
            "Requirement already satisfied: urllib3<3,>=1.21.1 in /usr/local/lib/python3.11/dist-packages (from requests>=2.20->openai==0.28) (2.3.0)\n",
            "Requirement already satisfied: certifi>=2017.4.17 in /usr/local/lib/python3.11/dist-packages (from requests>=2.20->openai==0.28) (2025.1.31)\n",
            "Requirement already satisfied: aiohappyeyeballs>=2.3.0 in /usr/local/lib/python3.11/dist-packages (from aiohttp->openai==0.28) (2.6.1)\n",
            "Requirement already satisfied: aiosignal>=1.1.2 in /usr/local/lib/python3.11/dist-packages (from aiohttp->openai==0.28) (1.3.2)\n",
            "Requirement already satisfied: attrs>=17.3.0 in /usr/local/lib/python3.11/dist-packages (from aiohttp->openai==0.28) (25.2.0)\n",
            "Requirement already satisfied: frozenlist>=1.1.1 in /usr/local/lib/python3.11/dist-packages (from aiohttp->openai==0.28) (1.5.0)\n",
            "Requirement already satisfied: multidict<7.0,>=4.5 in /usr/local/lib/python3.11/dist-packages (from aiohttp->openai==0.28) (6.1.0)\n",
            "Requirement already satisfied: propcache>=0.2.0 in /usr/local/lib/python3.11/dist-packages (from aiohttp->openai==0.28) (0.3.0)\n",
            "Requirement already satisfied: yarl<2.0,>=1.17.0 in /usr/local/lib/python3.11/dist-packages (from aiohttp->openai==0.28) (1.18.3)\n",
            "Downloading openai-0.28.0-py3-none-any.whl (76 kB)\n",
            "\u001b[2K   \u001b[90m━━━━━━━━━━━━━━━━━━━━━━━━━━━━━━━━━━━━━━━━\u001b[0m \u001b[32m76.5/76.5 kB\u001b[0m \u001b[31m1.9 MB/s\u001b[0m eta \u001b[36m0:00:00\u001b[0m\n",
            "\u001b[?25hInstalling collected packages: openai\n",
            "  Attempting uninstall: openai\n",
            "    Found existing installation: openai 1.61.1\n",
            "    Uninstalling openai-1.61.1:\n",
            "      Successfully uninstalled openai-1.61.1\n",
            "Successfully installed openai-0.28.0\n"
          ]
        }
      ],
      "source": [
        "!pip install openai==0.28\n"
      ]
    },
    {
      "cell_type": "code",
      "source": [
        "def optimize_query(user_input):\n",
        "    \"\"\"\n",
        "    Function to optimize user queries for ChatGPT\n",
        "    \"\"\"\n",
        "    suggestions = []\n",
        "\n",
        "    # Check for vague queries\n",
        "    if len(user_input.split()) < 5:\n",
        "        suggestions.append(\"Make your query more specific. Add details or constraints.\")\n",
        "\n",
        "    # Check for lack of format specification\n",
        "    if \"explain\" in user_input.lower() and \"steps\" not in user_input.lower():\n",
        "        suggestions.append(\"Consider requesting a step-by-step explanation for clarity.\")\n",
        "\n",
        "    if \"list\" in user_input.lower() and \"points\" not in user_input.lower():\n",
        "        suggestions.append(\"You can specify that you want a bullet-point list for better readability.\")\n",
        "\n",
        "    if \"compare\" in user_input.lower() and \"differences\" not in user_input.lower():\n",
        "        suggestions.append(\"For comparisons, specify the criteria you are interested in.\")\n",
        "\n",
        "    return suggestions if suggestions else [\"Your query is well-structured!\"]\n",
        "\n",
        "\n",
        "def maintain_context(conversation_history, new_input):\n",
        "    \"\"\"\n",
        "    Function to maintain conversation context\n",
        "    \"\"\"\n",
        "    if len(conversation_history) > 5:\n",
        "        conversation_history.pop(0)  # Limit history size to maintain relevance\n",
        "\n",
        "    conversation_history.append(new_input)\n",
        "\n",
        "    return conversation_history\n",
        "\n",
        "\n",
        "def ethical_check(user_input):\n",
        "    \"\"\"\n",
        "    Function to check for ethical considerations in input\n",
        "    \"\"\"\n",
        "    unethical_keywords = [\"fake news\", \"plagiarize\", \"mislead\", \"steal\", \"exploit\"]\n",
        "\n",
        "    for word in unethical_keywords:\n",
        "        if word in user_input.lower():\n",
        "            return \"Warning: Your query may violate ethical guidelines. Please ensure responsible use.\"\n",
        "\n",
        "    return \"Your query appears ethical and responsible.\"\n",
        "\n",
        "\n",
        "# Example usage\n",
        "if __name__ == \"__main__\":\n",
        "    conversation_history = []\n",
        "\n",
        "    while True:\n",
        "        user_input = input(\"Enter your query (or type 'exit' to quit): \")\n",
        "\n",
        "        if user_input.lower() == \"exit\":\n",
        "            break\n",
        "\n",
        "        print(\"\\nOptimization Suggestions:\")\n",
        "        for suggestion in optimize_query(user_input):\n",
        "            print(f\"- {suggestion}\")\n",
        "\n",
        "        print(\"\\nContextual Conversation History:\")\n",
        "        conversation_history = maintain_context(conversation_history, user_input)\n",
        "        print(conversation_history)\n",
        "\n",
        "        print(\"\\nEthical Check:\")\n",
        "        print(ethical_check(user_input))\n",
        "        print(\"\\n\" + \"-\"*50 + \"\\n\")\n"
      ],
      "metadata": {
        "colab": {
          "base_uri": "https://localhost:8080/"
        },
        "id": "cYIgLYWZIL7q",
        "outputId": "6f9dc6c1-3318-41c5-85fc-4dea2581eeb1"
      },
      "execution_count": 3,
      "outputs": [
        {
          "name": "stdout",
          "output_type": "stream",
          "text": [
            "Enter your query (or type 'exit' to quit): Explain AI\n",
            "\n",
            "Optimization Suggestions:\n",
            "- Make your query more specific. Add details or constraints.\n",
            "- Consider requesting a step-by-step explanation for clarity.\n",
            "\n",
            "Contextual Conversation History:\n",
            "['Explain AI']\n",
            "\n",
            "Ethical Check:\n",
            "Your query appears ethical and responsible.\n",
            "\n",
            "--------------------------------------------------\n",
            "\n",
            "Enter your query (or type 'exit' to quit): Explain the differences between AI, machine learning, and deep learning with examples.\n",
            "\n",
            "Optimization Suggestions:\n",
            "- Consider requesting a step-by-step explanation for clarity.\n",
            "\n",
            "Contextual Conversation History:\n",
            "['Explain AI', 'Explain the differences between AI, machine learning, and deep learning with examples.']\n",
            "\n",
            "Ethical Check:\n",
            "Your query appears ethical and responsible.\n",
            "\n",
            "--------------------------------------------------\n",
            "\n",
            "Enter your query (or type 'exit' to quit): List machine learning algorithms\n",
            "\n",
            "Optimization Suggestions:\n",
            "- Make your query more specific. Add details or constraints.\n",
            "- You can specify that you want a bullet-point list for better readability.\n",
            "\n",
            "Contextual Conversation History:\n",
            "['Explain AI', 'Explain the differences between AI, machine learning, and deep learning with examples.', 'List machine learning algorithms']\n",
            "\n",
            "Ethical Check:\n",
            "Your query appears ethical and responsible.\n",
            "\n",
            "--------------------------------------------------\n",
            "\n",
            "Enter your query (or type 'exit' to quit): How to spread fake news?\n",
            "\n",
            "Optimization Suggestions:\n",
            "- Your query is well-structured!\n",
            "\n",
            "Contextual Conversation History:\n",
            "['Explain AI', 'Explain the differences between AI, machine learning, and deep learning with examples.', 'List machine learning algorithms', 'How to spread fake news?']\n",
            "\n",
            "Ethical Check:\n",
            "Warning: Your query may violate ethical guidelines. Please ensure responsible use.\n",
            "\n",
            "--------------------------------------------------\n",
            "\n",
            "Enter your query (or type 'exit' to quit): Exit\n"
          ]
        }
      ]
    },
    {
      "cell_type": "code",
      "source": [],
      "metadata": {
        "id": "m8Abj4OQJ9Ff"
      },
      "execution_count": 2,
      "outputs": []
    }
  ]
}