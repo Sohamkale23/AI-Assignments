{
  "nbformat": 4,
  "nbformat_minor": 0,
  "metadata": {
    "colab": {
      "provenance": []
    },
    "kernelspec": {
      "name": "python3",
      "display_name": "Python 3"
    },
    "language_info": {
      "name": "python"
    }
  },
  "cells": [
    {
      "cell_type": "code",
      "execution_count": 63,
      "metadata": {
        "colab": {
          "base_uri": "https://localhost:8080/"
        },
        "id": "BXAuS8SJiekE",
        "outputId": "c1617b15-abad-4fe6-9666-1f4f73fec66a"
      },
      "outputs": [
        {
          "output_type": "stream",
          "name": "stdout",
          "text": [
            "Epoch 0, Loss: 0.3361\n",
            "Epoch 100, Loss: 0.2523\n",
            "Epoch 200, Loss: 0.2515\n",
            "Epoch 300, Loss: 0.2510\n",
            "Epoch 400, Loss: 0.2505\n",
            "Epoch 500, Loss: 0.2500\n",
            "Epoch 600, Loss: 0.2496\n",
            "Epoch 700, Loss: 0.2492\n",
            "Epoch 800, Loss: 0.2488\n",
            "Epoch 900, Loss: 0.2483\n",
            "Final Predictions:\n",
            "[[0.50239039]\n",
            " [0.51882552]\n",
            " [0.48355287]\n",
            " [0.490323  ]]\n"
          ]
        }
      ],
      "source": [
        "import numpy as np\n",
        "\n",
        "# Sigmoid activation function\n",
        "def sigmoid(x):\n",
        "    return 1 / (1 + np.exp(-x))\n",
        "\n",
        "# Derivative of sigmoid\n",
        "def sigmoid_derivative(x):\n",
        "    return x * (1 - x)\n",
        "\n",
        "# Neural Network class\n",
        "class NeuralNetwork:\n",
        "    def __init__(self, input_size, hidden_size, output_size, learning_rate=0.1):\n",
        "        self.input_size = input_size\n",
        "        self.hidden_size = hidden_size\n",
        "        self.output_size = output_size\n",
        "        self.learning_rate = learning_rate\n",
        "\n",
        "        # Initialize weights and biases\n",
        "        self.weights_input_hidden = np.random.randn(self.input_size, self.hidden_size)\n",
        "        self.bias_hidden = np.zeros((1, self.hidden_size))\n",
        "\n",
        "        self.weights_hidden_output = np.random.randn(self.hidden_size, self.output_size)\n",
        "        self.bias_output = np.zeros((1, self.output_size))\n",
        "\n",
        "    def forward_propagation(self, X):\n",
        "        # Input to hidden layer\n",
        "        self.hidden_input = np.dot(X, self.weights_input_hidden) + self.bias_hidden\n",
        "        self.hidden_output = sigmoid(self.hidden_input)\n",
        "\n",
        "        # Hidden to output layer\n",
        "        self.final_input = np.dot(self.hidden_output, self.weights_hidden_output) + self.bias_output\n",
        "        self.final_output = sigmoid(self.final_input)\n",
        "\n",
        "        return self.final_output\n",
        "\n",
        "    def backward_propagation(self, X, y, output):\n",
        "        # Compute error\n",
        "        error = y - output\n",
        "\n",
        "        # Compute gradients for output layer\n",
        "        d_output = error * sigmoid_derivative(output)\n",
        "\n",
        "        # Compute error for hidden layer\n",
        "        error_hidden = np.dot(d_output, self.weights_hidden_output.T)\n",
        "        d_hidden = error_hidden * sigmoid_derivative(self.hidden_output)\n",
        "\n",
        "        # Update weights and biases\n",
        "        self.weights_hidden_output += np.dot(self.hidden_output.T, d_output) * self.learning_rate\n",
        "        self.bias_output += np.sum(d_output, axis=0, keepdims=True) * self.learning_rate\n",
        "\n",
        "        self.weights_input_hidden += np.dot(X.T, d_hidden) * self.learning_rate\n",
        "        self.bias_hidden += np.sum(d_hidden, axis=0, keepdims=True) * self.learning_rate\n",
        "\n",
        "    def train(self, X, y, epochs=1000):\n",
        "        for epoch in range(epochs):\n",
        "            output = self.forward_propagation(X)\n",
        "            self.backward_propagation(X, y, output)\n",
        "            if epoch % 100 == 0:\n",
        "                loss = np.mean(np.square(y - output))\n",
        "                print(f\"Epoch {epoch}, Loss: {loss:.4f}\")\n",
        "\n",
        "# Sample Dataset (XOR problem)\n",
        "X = np.array([[0, 0], [0, 1], [1, 0], [1, 1]])\n",
        "y = np.array([[0], [1], [1], [0]])\n",
        "\n",
        "# Initialize and train the neural network\n",
        "nn = NeuralNetwork(input_size=2, hidden_size=4, output_size=1, learning_rate=0.1)\n",
        "nn.train(X, y, epochs=1000)\n",
        "\n",
        "# Test the trained network\n",
        "print(\"Final Predictions:\")\n",
        "print(nn.forward_propagation(X))\n"
      ]
    },
    {
      "cell_type": "code",
      "source": [],
      "metadata": {
        "id": "hzR54ymgadOr"
      },
      "execution_count": null,
      "outputs": []
    }
  ]
}